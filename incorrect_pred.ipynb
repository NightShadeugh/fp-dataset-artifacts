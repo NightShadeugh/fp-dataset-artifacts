{
 "cells": [
  {
   "cell_type": "code",
   "execution_count": 1,
   "metadata": {},
   "outputs": [],
   "source": [
    "import pandas as pd\n",
    "import json\n"
   ]
  },
  {
   "cell_type": "code",
   "execution_count": 2,
   "metadata": {},
   "outputs": [],
   "source": [
    "def filter_incorrect_predictions(file_path):\n",
    "    \"\"\"\n",
    "    Reads a JSONL file and creates a DataFrame for incorrect predictions.\n",
    "\n",
    "    Args:\n",
    "        file_path (str): Path to the JSONL file.\n",
    "    \"\"\"\n",
    "    data = []\n",
    "    with open(file_path, mode=\"r\", encoding=\"utf-8\") as file:\n",
    "        for line in file:\n",
    "            record = json.loads(line)\n",
    "            # if predicted_label is incorrect\n",
    "            if record[\"label\"] != record[\"predicted_label\"]:\n",
    "                data.append(record)\n",
    "    \n",
    "    df = pd.DataFrame(data)\n",
    "    print(f\"Filtered DataFrame contains {len(df)} incorrect predictions.\")\n",
    "    return df"
   ]
  },
  {
   "cell_type": "markdown",
   "metadata": {},
   "source": [
    "Analysis for Contrast Sets (30 examples)"
   ]
  },
  {
   "cell_type": "code",
   "execution_count": 3,
   "metadata": {},
   "outputs": [],
   "source": [
    "# Specify the JSONL file path\n",
    "file_path = \"eval_contrast/eval_predictions.jsonl\""
   ]
  },
  {
   "cell_type": "code",
   "execution_count": 4,
   "metadata": {},
   "outputs": [
    {
     "name": "stdout",
     "output_type": "stream",
     "text": [
      "Filtered DataFrame contains 6 incorrect predictions.\n"
     ]
    },
    {
     "data": {
      "text/html": [
       "<div>\n",
       "<style scoped>\n",
       "    .dataframe tbody tr th:only-of-type {\n",
       "        vertical-align: middle;\n",
       "    }\n",
       "\n",
       "    .dataframe tbody tr th {\n",
       "        vertical-align: top;\n",
       "    }\n",
       "\n",
       "    .dataframe thead th {\n",
       "        text-align: right;\n",
       "    }\n",
       "</style>\n",
       "<table border=\"1\" class=\"dataframe\">\n",
       "  <thead>\n",
       "    <tr style=\"text-align: right;\">\n",
       "      <th></th>\n",
       "      <th>premise</th>\n",
       "      <th>hypothesis</th>\n",
       "      <th>label</th>\n",
       "      <th>predicted_scores</th>\n",
       "      <th>predicted_label</th>\n",
       "    </tr>\n",
       "  </thead>\n",
       "  <tbody>\n",
       "    <tr>\n",
       "      <th>0</th>\n",
       "      <td>A person on a horse jumps over a broken down a...</td>\n",
       "      <td>A person is training his horse for a swimming ...</td>\n",
       "      <td>2</td>\n",
       "      <td>[-4.481811046600342, 3.042536735534668, 0.5853...</td>\n",
       "      <td>1</td>\n",
       "    </tr>\n",
       "    <tr>\n",
       "      <th>1</th>\n",
       "      <td>A person on a horse jumps over a broken down a...</td>\n",
       "      <td>A person is training his horse to jump over ob...</td>\n",
       "      <td>0</td>\n",
       "      <td>[-0.6955260038375854, 3.0153861045837402, -3.2...</td>\n",
       "      <td>1</td>\n",
       "    </tr>\n",
       "    <tr>\n",
       "      <th>2</th>\n",
       "      <td>Children smiling and waving at camera.</td>\n",
       "      <td>The children are waving at the camera while sm...</td>\n",
       "      <td>0</td>\n",
       "      <td>[-2.7015953063964844, 4.189029216766357, -2.71...</td>\n",
       "      <td>1</td>\n",
       "    </tr>\n",
       "    <tr>\n",
       "      <th>3</th>\n",
       "      <td>Two blond women are hugging one another.</td>\n",
       "      <td>Two women are hugging each other in a friendly...</td>\n",
       "      <td>0</td>\n",
       "      <td>[-0.0024663684889674187, 2.965149402618408, -3...</td>\n",
       "      <td>1</td>\n",
       "    </tr>\n",
       "    <tr>\n",
       "      <th>4</th>\n",
       "      <td>Two women who just had lunch hugging and sayin...</td>\n",
       "      <td>Two women are having a conversation after lunch.</td>\n",
       "      <td>1</td>\n",
       "      <td>[2.9909515380859375, -0.2583397924900055, -3.1...</td>\n",
       "      <td>0</td>\n",
       "    </tr>\n",
       "  </tbody>\n",
       "</table>\n",
       "</div>"
      ],
      "text/plain": [
       "                                             premise  \\\n",
       "0  A person on a horse jumps over a broken down a...   \n",
       "1  A person on a horse jumps over a broken down a...   \n",
       "2             Children smiling and waving at camera.   \n",
       "3           Two blond women are hugging one another.   \n",
       "4  Two women who just had lunch hugging and sayin...   \n",
       "\n",
       "                                          hypothesis  label  \\\n",
       "0  A person is training his horse for a swimming ...      2   \n",
       "1  A person is training his horse to jump over ob...      0   \n",
       "2  The children are waving at the camera while sm...      0   \n",
       "3  Two women are hugging each other in a friendly...      0   \n",
       "4   Two women are having a conversation after lunch.      1   \n",
       "\n",
       "                                    predicted_scores  predicted_label  \n",
       "0  [-4.481811046600342, 3.042536735534668, 0.5853...                1  \n",
       "1  [-0.6955260038375854, 3.0153861045837402, -3.2...                1  \n",
       "2  [-2.7015953063964844, 4.189029216766357, -2.71...                1  \n",
       "3  [-0.0024663684889674187, 2.965149402618408, -3...                1  \n",
       "4  [2.9909515380859375, -0.2583397924900055, -3.1...                0  "
      ]
     },
     "execution_count": 4,
     "metadata": {},
     "output_type": "execute_result"
    }
   ],
   "source": [
    "# Call the filtering function and display the DataFrame\n",
    "df = filter_incorrect_predictions(file_path)\n",
    "\n",
    "# Display the first few rows of the DataFrame\n",
    "df.head()"
   ]
  }
 ],
 "metadata": {
  "kernelspec": {
   "display_name": "base",
   "language": "python",
   "name": "python3"
  },
  "language_info": {
   "codemirror_mode": {
    "name": "ipython",
    "version": 3
   },
   "file_extension": ".py",
   "mimetype": "text/x-python",
   "name": "python",
   "nbconvert_exporter": "python",
   "pygments_lexer": "ipython3",
   "version": "3.12.2"
  }
 },
 "nbformat": 4,
 "nbformat_minor": 2
}
